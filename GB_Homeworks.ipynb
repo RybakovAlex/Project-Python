{
  "nbformat": 4,
  "nbformat_minor": 0,
  "metadata": {
    "colab": {
      "provenance": [],
      "authorship_tag": "ABX9TyPpz+lQlZxmfEAQjC1m8qkK",
      "include_colab_link": true
    },
    "kernelspec": {
      "name": "python3",
      "display_name": "Python 3"
    },
    "language_info": {
      "name": "python"
    }
  },
  "cells": [
    {
      "cell_type": "markdown",
      "metadata": {
        "id": "view-in-github",
        "colab_type": "text"
      },
      "source": [
        "<a href=\"https://colab.research.google.com/github/RybakovAlex/Project-Python/blob/main/GB_Homeworks.ipynb\" target=\"_parent\"><img src=\"https://colab.research.google.com/assets/colab-badge.svg\" alt=\"Open In Colab\"/></a>"
      ]
    },
    {
      "cell_type": "code",
      "execution_count": null,
      "metadata": {
        "id": "aiweTK9fUe0T"
      },
      "outputs": [],
      "source": []
    },
    {
      "cell_type": "markdown",
      "source": [
        "**Урок 1. Python. Повторение основ**"
      ],
      "metadata": {
        "id": "TjeltisaZdpG"
      }
    },
    {
      "cell_type": "markdown",
      "source": [
        "1. Написать цикл для выведения на экран каждой буквы своего ФИО."
      ],
      "metadata": {
        "id": "lqUR5xvfZECU"
      }
    },
    {
      "cell_type": "code",
      "source": [
        "last_name = input(\"Введите фамилию: \")\n",
        "a = last_name \n",
        "for i in range(len(a)):\n",
        "   print(a[i])"
      ],
      "metadata": {
        "id": "B-96uM8tZKGb",
        "outputId": "dfa5c286-9e76-479e-bc0d-11de3eaeed73",
        "colab": {
          "base_uri": "https://localhost:8080/"
        }
      },
      "execution_count": 6,
      "outputs": [
        {
          "output_type": "stream",
          "name": "stdout",
          "text": [
            "Введите фамилию: Рыбаков\n",
            "Р\n",
            "ы\n",
            "б\n",
            "а\n",
            "к\n",
            "о\n",
            "в\n"
          ]
        }
      ]
    },
    {
      "cell_type": "markdown",
      "source": [
        "2. Написать функцию для перевода доллара в евро c округлением до 2х знаков после запятой, если известно, что текущий курс составляет 1.17 долларов за один евро."
      ],
      "metadata": {
        "id": "XemQ-6xVZMRz"
      }
    },
    {
      "cell_type": "code",
      "source": [
        "def exchange(usd):\n",
        "    ref = usd/1.17\n",
        "    return ref\n",
        "usd = float(input(\"Введите сумму в долларах: \"))\n",
        "print(\"Сумма перевода в евро = \",'{:.2f}'.format(exchange(usd)))"
      ],
      "metadata": {
        "id": "5XEqZ5cgahgZ",
        "outputId": "98acc756-1eb7-4eba-941f-9f7c5a245808",
        "colab": {
          "base_uri": "https://localhost:8080/"
        }
      },
      "execution_count": 5,
      "outputs": [
        {
          "output_type": "stream",
          "name": "stdout",
          "text": [
            "Введите сумму в долларах: 1\n",
            "Сумма перевода в евро =  0.85\n"
          ]
        }
      ]
    }
  ]
}